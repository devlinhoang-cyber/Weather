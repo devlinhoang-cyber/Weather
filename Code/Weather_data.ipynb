import pandas as pd 
import numpy as np
import matplotlib.pyplot as plt
#Load dataset
dataset1= pd.read_csv("https://raw.githubusercontent.com/devlinhoang-cyber/Weather/refs/heads/main/Data/seattle_rain.csv")
dataset2= pd.read_csv("https://raw.githubusercontent.com/devlinhoang-cyber/Weather/refs/heads/main/Data/Phan%20Thiet%20station.csv")

#Convert date to datetime:
dataset1["DATE"]= pd.to_datetime(dataset1["DATE"])
dataset2["DATE"]=pd.to_datetime(dataset2["DATE"])

#Group months and average:
precipitation_data1= dataset1.groupby(dataset1["DATE"].dt.month)['PRCP'].mean()
precipitation_data2= dataset2.groupby(dataset2["DATE"].dt.month)['PRCP'].mean()

months= ['Jan','Feb','Mar','Apr','May','Jun','Jul','Aug','Sep','Oct','Nov','Dec']
x= np.arange(len(months))
width=0.4

plt.figure(figsize=(12,6))
plt.xticks(x,months)
plt.bar(x-width/2, precipitation_data1, width, label="Seattle", color= "Blue")
plt.bar(x+width/2, precipitation_data2, width, label="Phan Thiet", color="Orange")
plt.xlabel('Months')
plt.ylabel('Average precipitation (inches)')
plt.show()
