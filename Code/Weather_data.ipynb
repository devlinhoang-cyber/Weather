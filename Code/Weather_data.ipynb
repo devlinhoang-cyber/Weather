import pandas as pd 
import numpy as np
import matplotlib.pyplot as plt
#Load dataset
dataset1= pd.read_csv("https://raw.githubusercontent.com/devlinhoang-cyber/Weather/refs/heads/main/Data/seattle_rain.csv")
dataset2= pd.read_csv("https://raw.githubusercontent.com/devlinhoang-cyber/Weather/refs/heads/main/Data/Phan%20Thiet%20station.csv")

#Convert date to datetime:
dataset["Date"]= pd.to_datetime(dateset1["Date"]
dataset2["Date"]=pd.to_datetime(dataset2["Date"]

#Group months and average:
precipitation_data1= dataset1.groupby(dataset1["Date"].dt.month)['PRCP'].mean()
precipitation_data2= dataset2.groupby(dataset2["Date"].dt.month)['PRCP'].mean()

months= ['January','February','March','April','May','June','July','August','September','October','November','December']
x= np.arange(len(months))
width=0.4

plt.figure(figsize=(12,6))
plt.bar(x-width/2, precipitation_data1, width, label="Seattle", color= "Blue")
plt.bar(x+width/2, precipitation_data2, width, label="Phan Thiet", color="Orange")
plt.xlabel('Months')
plt.ylabel('Average precipitation (inches)')
plt.show()
